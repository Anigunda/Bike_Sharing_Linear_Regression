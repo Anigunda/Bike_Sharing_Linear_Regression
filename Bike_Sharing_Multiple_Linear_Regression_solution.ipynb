{
  "cells": [
    {
      "cell_type": "markdown",
      "metadata": {
        "id": "H5O3clnlHjqp"
      },
      "source": [
        "# **Multiple Linear Regression**\n",
        "## **Bike Sharing Assignment**\n",
        "\n",
        "#### Problem Statement:\n",
        "\n",
        "A bike-sharing system is a service in which bikes are made available for shared use to individuals on a short term basis for a price or free. Many bike share systems allow people to borrow a bike from a \"dock\" which is usually computer-controlled wherein the user enters the payment information, and the system unlocks it. This bike can then be returned to another dock belonging to the same system.\n",
        "\n",
        "\n",
        "A US bike-sharing provider BikeIndia has recently suffered considerable dips in their revenues due to the ongoing Corona pandemic. The company is finding it very difficult to sustain in the current market scenario. So, it has decided to come up with a mindful business plan to be able to accelerate its revenue as soon as the ongoing lockdown comes to an end, and the economy restores to a healthy state.\n",
        "\n",
        "\n",
        "In such an attempt, **BikeIndia** aspires to understand the demand for shared bikes among the people after this ongoing quarantine situation ends across the nation due to Covid-19. They have planned this to prepare themselves to cater to the people's needs once the situation gets better all around and stand out from other service providers and make huge profits.\n",
        "\n",
        "\n",
        "They have contracted a consulting company to understand the factors on which the demand for these shared bikes depends. Specifically, they want to understand the factors affecting the demand for these shared bikes in the American market. The company wants to know:\n",
        "\n",
        "Which variables are significant in predicting the demand for shared bikes.\n",
        "How well those variables describe the bike demands\n",
        "Based on various meteorological surveys and people's styles, the service provider firm has gathered a large dataset on daily bike demands across the American market based on some factors.\n",
        "\n",
        "#### Business Goal:\n",
        "\n",
        "We are required to model the demand for shared bikes with the available independent variables. It will be used by the management to understand how exactly the demands vary with different features. They can accordingly manipulate the business strategy to meet the demand levels and meet the customer's expectations. Further, the model will be a good way for management to understand the demand dynamics of a new market."
      ]
    },
    {
      "cell_type": "markdown",
      "metadata": {
        "id": "BW4DK7tVHjqp"
      },
      "source": [
        "##  Reading and Understanding the Data\n"
      ]
    },
    {
      "cell_type": "code",
      "execution_count": 1,
      "metadata": {
        "id": "gnNwmKYiHjqp",
        "trusted": true
      },
      "outputs": [],
      "source": [
        "# Supress Warnings\n",
        "\n",
        "import warnings\n",
        "warnings.filterwarnings('ignore')\n"
      ]
    },
    {
      "cell_type": "code",
      "execution_count": 2,
      "metadata": {
        "id": "cdwfKUuVHjqq",
        "trusted": true
      },
      "outputs": [
        {
          "ename": "ModuleNotFoundError",
          "evalue": "No module named 'numpy'",
          "output_type": "error",
          "traceback": [
            "\u001b[1;31m---------------------------------------------------------------------------\u001b[0m",
            "\u001b[1;31mModuleNotFoundError\u001b[0m                       Traceback (most recent call last)",
            "Cell \u001b[1;32mIn[2], line 1\u001b[0m\n\u001b[1;32m----> 1\u001b[0m \u001b[38;5;28;01mimport\u001b[39;00m \u001b[38;5;21;01mnumpy\u001b[39;00m \u001b[38;5;28;01mas\u001b[39;00m \u001b[38;5;21;01mnp\u001b[39;00m\n\u001b[0;32m      2\u001b[0m \u001b[38;5;28;01mimport\u001b[39;00m \u001b[38;5;21;01mpandas\u001b[39;00m \u001b[38;5;28;01mas\u001b[39;00m \u001b[38;5;21;01mpd\u001b[39;00m\n\u001b[0;32m      3\u001b[0m \u001b[38;5;28;01mimport\u001b[39;00m \u001b[38;5;21;01mmatplotlib\u001b[39;00m\u001b[38;5;21;01m.\u001b[39;00m\u001b[38;5;21;01mpyplot\u001b[39;00m \u001b[38;5;28;01mas\u001b[39;00m \u001b[38;5;21;01mplt\u001b[39;00m\n",
            "\u001b[1;31mModuleNotFoundError\u001b[0m: No module named 'numpy'"
          ]
        }
      ],
      "source": [
        "import numpy as np\n",
        "import pandas as pd\n",
        "import matplotlib.pyplot as plt\n",
        "import seaborn as sns\n",
        "%matplotlib inline"
      ]
    },
    {
      "cell_type": "code",
      "execution_count": null,
      "metadata": {
        "id": "C70_yOPQHjqq",
        "trusted": true
      },
      "outputs": [],
      "source": [
        "import os\n",
        "for dirname, _, filenames in os.walk('/kaggle/input'):\n",
        "    for filename in filenames:\n",
        "        print(os.path.join(dirname, filename))"
      ]
    },
    {
      "cell_type": "code",
      "execution_count": null,
      "metadata": {
        "id": "R9vzLLmSHjqq",
        "trusted": true
      },
      "outputs": [],
      "source": [
        "bike = pd.DataFrame(pd.read_csv(\"/kaggle/input/bike-sharing/day.csv\"))"
      ]
    },
    {
      "cell_type": "code",
      "execution_count": null,
      "metadata": {
        "id": "YmrmUf6yHjqq",
        "trusted": true
      },
      "outputs": [],
      "source": [
        "# Check the head of the dataset\n",
        "bike.head()"
      ]
    },
    {
      "cell_type": "code",
      "execution_count": null,
      "metadata": {
        "id": "suHC8FFiHjqq",
        "trusted": true
      },
      "outputs": [],
      "source": [
        "# Check the descriptive information\n",
        "bike.info()"
      ]
    },
    {
      "cell_type": "code",
      "execution_count": null,
      "metadata": {
        "id": "JdYNOjGAHjqq",
        "trusted": true
      },
      "outputs": [],
      "source": [
        "bike.describe()"
      ]
    },
    {
      "cell_type": "code",
      "execution_count": null,
      "metadata": {
        "id": "8R99tzwQHjqq",
        "trusted": true
      },
      "outputs": [],
      "source": [
        "# Check the shape of df\n",
        "\n",
        "print(bike.shape)"
      ]
    },
    {
      "cell_type": "markdown",
      "metadata": {
        "id": "awVfx30ZHjqq"
      },
      "source": [
        "## Finding :\n",
        "Dataset has 730 rows and 16 columns.\n",
        "\n",
        "Except one column, all other are either float or integer type.\n",
        "\n",
        "One column is date type.\n",
        "\n",
        "Looking at the data, there seems to be some fields that are categorical in nature, but in integer/float type.\n",
        "\n",
        "We will analyse and finalize whether to convert them to categorical or treat as integer."
      ]
    },
    {
      "cell_type": "markdown",
      "metadata": {
        "id": "tkJiLXoeHjqr"
      },
      "source": [
        "# DATA QUALITY CHECK"
      ]
    },
    {
      "cell_type": "markdown",
      "metadata": {
        "id": "49vIU70_Hjqr"
      },
      "source": [
        "## Check for NULL/MISSING values"
      ]
    },
    {
      "cell_type": "code",
      "execution_count": null,
      "metadata": {
        "id": "mPgt0m5MHjqr",
        "trusted": true
      },
      "outputs": [],
      "source": [
        "# percentage of missing values in each column\n",
        "round(100*(bike.isnull().sum()/len(bike)), 2).sort_values(ascending=False)"
      ]
    },
    {
      "cell_type": "code",
      "execution_count": null,
      "metadata": {
        "id": "lIvV9u6cHjqr",
        "trusted": true
      },
      "outputs": [],
      "source": [
        "# row-wise null count percentage\n",
        "round((bike.isnull().sum(axis=1)/len(bike))*100,2).sort_values(ascending=False)"
      ]
    },
    {
      "cell_type": "markdown",
      "metadata": {
        "id": "_KpvVAKpHjqr"
      },
      "source": [
        "## Finding\n",
        "There are no missing / Null values either in columns or rows"
      ]
    },
    {
      "cell_type": "markdown",
      "metadata": {
        "id": "gsNDmEUoHjqr"
      },
      "source": [
        "## Duplicate Check"
      ]
    },
    {
      "cell_type": "code",
      "execution_count": null,
      "metadata": {
        "id": "xiCIB4_jHjqr",
        "trusted": true
      },
      "outputs": [],
      "source": [
        "bike_dup = bike.copy()\n",
        "\n",
        "# Checking for duplicates and dropping the entire duplicate row if any\n",
        "bike_dup.drop_duplicates(subset=None, inplace=True)"
      ]
    },
    {
      "cell_type": "code",
      "execution_count": null,
      "metadata": {
        "id": "Hzh_lbt8Hjqr",
        "trusted": true
      },
      "outputs": [],
      "source": [
        "bike_dup.shape"
      ]
    },
    {
      "cell_type": "code",
      "execution_count": null,
      "metadata": {
        "id": "MfEW4k71Hjqr",
        "trusted": true
      },
      "outputs": [],
      "source": [
        "bike.shape"
      ]
    },
    {
      "cell_type": "markdown",
      "metadata": {
        "id": "bqEY_FuRHjqr"
      },
      "source": [
        "### Insights\n",
        "\n",
        "The shape after running the drop duplicate command is same as the original dataframe.\n",
        "\n",
        "Hence we can conclude that there were zero duplicate values in the dataset."
      ]
    },
    {
      "cell_type": "markdown",
      "metadata": {
        "id": "ocJjsOenHjqr"
      },
      "source": [
        "## Data Cleaning\n",
        "\n",
        "Checking value_counts() for entire dataframe.\n",
        "\n",
        "This will help to identify any Unknow/Junk values present in the dataset."
      ]
    },
    {
      "cell_type": "code",
      "execution_count": null,
      "metadata": {
        "id": "WaviVC2CHjqr",
        "trusted": true
      },
      "outputs": [],
      "source": [
        "#Create a copy of the  dataframe, without the 'instant' column,\n",
        "\n",
        "#as this will have unique values, and donot make sense to do a value count on it.\n",
        "\n",
        "bike_dummy=bike.iloc[:,1:16]"
      ]
    },
    {
      "cell_type": "code",
      "execution_count": null,
      "metadata": {
        "id": "xoIn3ag6Hjqr",
        "trusted": true
      },
      "outputs": [],
      "source": [
        "for col in bike_dummy:\n",
        "    print(bike_dummy[col].value_counts(ascending=False), '\\n\\n\\n')"
      ]
    },
    {
      "cell_type": "markdown",
      "metadata": {
        "id": "M-YTaA1qHjqr"
      },
      "source": [
        "### Insights\n",
        "There seems to be no Junk/Unknown values in the entire dataset."
      ]
    },
    {
      "cell_type": "markdown",
      "metadata": {
        "id": "SUx1syixHjqr"
      },
      "source": [
        "# Removing redundant & unwanted columns"
      ]
    },
    {
      "cell_type": "markdown",
      "metadata": {
        "id": "2Ft1t-xCHjqs"
      },
      "source": [
        "Based on the high level look at the data and the data dictionary, the following variables can be removed from further analysis:\n",
        "\n",
        "1. **instant** : Its only an index value\n",
        "\n",
        "2. **dteday** : This has the date, Since we already have seperate columns for 'year' & 'month',hence, we could live without this column.\n",
        "\n",
        "3.  **casual & registered** : Both these columns contains the count of bike booked by different categories of customers.\n",
        "Since our objective is to find the total count of bikes and not by specific category, we will ignore these two columns.\n",
        "More over, we have created a new variable to have the ratio of these customer types.\n",
        "\n",
        "4.  We will save the new dataframe as bike_new, so that the original dataset is preserved for any future analysis/validation"
      ]
    },
    {
      "cell_type": "code",
      "execution_count": null,
      "metadata": {
        "id": "mxfclcB1Hjqs",
        "trusted": true
      },
      "outputs": [],
      "source": [
        "bike.columns"
      ]
    },
    {
      "cell_type": "code",
      "execution_count": null,
      "metadata": {
        "id": "qa8C9TyvHjqs",
        "trusted": true
      },
      "outputs": [],
      "source": [
        "bike_new=bike[['season', 'yr', 'mnth', 'holiday', 'weekday',\n",
        "       'workingday', 'weathersit', 'temp', 'atemp', 'hum', 'windspeed',\n",
        "       'cnt']]\n"
      ]
    },
    {
      "cell_type": "code",
      "execution_count": null,
      "metadata": {
        "id": "XAUci1LyHjqs",
        "trusted": true
      },
      "outputs": [],
      "source": [
        "bike_new.info()"
      ]
    },
    {
      "cell_type": "markdown",
      "metadata": {
        "id": "O_BbnW-uHjqs"
      },
      "source": [
        "# Creating Dummy Variables"
      ]
    },
    {
      "cell_type": "markdown",
      "metadata": {
        "id": "lnGQM-0MHjqs"
      },
      "source": [
        "We will create DUMMY variables for 4 categorical variables 'mnth', 'weekday', 'season' & 'weathersit'.\n",
        "- Before creating dummy variables, we will have to convert them into 'category' data types."
      ]
    },
    {
      "cell_type": "code",
      "execution_count": null,
      "metadata": {
        "id": "6rsfPZphHjqs",
        "trusted": true
      },
      "outputs": [],
      "source": [
        "# Check the datatypes before convertion\n",
        "bike_new.info()"
      ]
    },
    {
      "cell_type": "code",
      "execution_count": null,
      "metadata": {
        "id": "VFPZtJhJHjqs",
        "trusted": true
      },
      "outputs": [],
      "source": [
        "# Convert to 'category' data type\n",
        "\n",
        "bike_new['season']=bike_new['season'].astype('category')\n",
        "bike_new['weathersit']=bike_new['weathersit'].astype('category')\n",
        "bike_new['mnth']=bike_new['mnth'].astype('category')\n",
        "bike_new['weekday']=bike_new['weekday'].astype('category')\n"
      ]
    },
    {
      "cell_type": "code",
      "execution_count": null,
      "metadata": {
        "id": "n--fx1qqHjqs",
        "trusted": true
      },
      "outputs": [],
      "source": [
        "bike_new.info()"
      ]
    },
    {
      "cell_type": "code",
      "execution_count": null,
      "metadata": {
        "id": "TQifaN3pHjqs",
        "trusted": true
      },
      "outputs": [],
      "source": [
        "# This code does 3 things:\n",
        "# 1) Create Dummy variable\n",
        "# 2) Drop original variable for which the dummy was created\n",
        "# 3) Drop first dummy variable for each set of dummies created.\n",
        "\n",
        "bike_new = pd.get_dummies(bike_new, drop_first=True)\n",
        "bike_new.info()"
      ]
    },
    {
      "cell_type": "code",
      "execution_count": null,
      "metadata": {
        "id": "0KjALcshHjqs",
        "trusted": true
      },
      "outputs": [],
      "source": [
        "bike_new.shape"
      ]
    },
    {
      "cell_type": "markdown",
      "metadata": {
        "id": "5u-ztLLUHjqs"
      },
      "source": [
        "## SPLITTING THE DATA\n",
        "- Splitting the data to Train and Test: - We will now split the data into TRAIN and TEST (70:30 ratio)\n",
        "- We will use train_test_split method from sklearn package for this"
      ]
    },
    {
      "cell_type": "code",
      "execution_count": null,
      "metadata": {
        "id": "nkNrMdD2Hjqw",
        "trusted": true
      },
      "outputs": [],
      "source": [
        "# Check the shape before spliting\n",
        "\n",
        "bike_new.shape"
      ]
    },
    {
      "cell_type": "code",
      "execution_count": null,
      "metadata": {
        "id": "F0pR7tkAHjqw",
        "trusted": true
      },
      "outputs": [],
      "source": [
        "# Check the info before spliting\n",
        "\n",
        "bike_new.info()"
      ]
    },
    {
      "cell_type": "code",
      "execution_count": null,
      "metadata": {
        "id": "pTa0AAIbHjqx",
        "trusted": true
      },
      "outputs": [],
      "source": [
        "from sklearn.model_selection import train_test_split\n",
        "\n",
        "# We should specify 'random_state' so that the train and test data set always have the same rows, respectively\n",
        "\n",
        "np.random.seed(0)\n",
        "df_train, df_test = train_test_split(bike_new, train_size = 0.70, test_size = 0.30, random_state = 333)"
      ]
    },
    {
      "cell_type": "markdown",
      "metadata": {
        "id": "BaNHEN6jHjqx"
      },
      "source": [
        "\n",
        "- Verify the info and shape of the dataframes after split:"
      ]
    },
    {
      "cell_type": "code",
      "execution_count": null,
      "metadata": {
        "id": "-d2WuHHUHjqx",
        "trusted": true
      },
      "outputs": [],
      "source": [
        "df_train.info()"
      ]
    },
    {
      "cell_type": "code",
      "execution_count": null,
      "metadata": {
        "id": "PyAX1jW6Hjqx",
        "trusted": true
      },
      "outputs": [],
      "source": [
        "df_train.shape"
      ]
    },
    {
      "cell_type": "code",
      "execution_count": null,
      "metadata": {
        "id": "m00opjONHjqx",
        "trusted": true
      },
      "outputs": [],
      "source": [
        "df_test.info()"
      ]
    },
    {
      "cell_type": "code",
      "execution_count": null,
      "metadata": {
        "id": "-c85WniUHjqx",
        "trusted": true
      },
      "outputs": [],
      "source": [
        "df_test.shape"
      ]
    },
    {
      "cell_type": "markdown",
      "metadata": {
        "id": "f2EpBc-wHjqx"
      },
      "source": [
        "# EXPLORATORY DATA ANALYSIS"
      ]
    },
    {
      "cell_type": "markdown",
      "metadata": {
        "id": "dFiF4veBHjqx"
      },
      "source": [
        "\n",
        "- We need to  perform the EDA on TRAINING (df_train) Dataset."
      ]
    },
    {
      "cell_type": "markdown",
      "metadata": {
        "id": "VMA9gwVsHjqx"
      },
      "source": [
        "## Visualising Numeric Variables\n",
        "Let's make a pairplot of all the numeric variables."
      ]
    },
    {
      "cell_type": "code",
      "execution_count": null,
      "metadata": {
        "id": "QhH-oZBuHjqx",
        "trusted": true
      },
      "outputs": [],
      "source": [
        "df_train.info()"
      ]
    },
    {
      "cell_type": "code",
      "execution_count": null,
      "metadata": {
        "id": "V1SWE0_eHjqx",
        "trusted": true
      },
      "outputs": [],
      "source": [
        "df_train.columns"
      ]
    },
    {
      "cell_type": "code",
      "execution_count": null,
      "metadata": {
        "id": "1J0aCbRQHjqx",
        "trusted": true
      },
      "outputs": [],
      "source": [
        "# Create a new dataframe of only numeric variables:\n",
        "\n",
        "bike_num=df_train[[ 'temp', 'atemp', 'hum', 'windspeed','cnt']]\n",
        "\n",
        "sns.pairplot(bike_num, diag_kind='kde')\n",
        "plt.show()"
      ]
    },
    {
      "cell_type": "markdown",
      "metadata": {
        "id": "BgxhBsWrHjqx"
      },
      "source": [
        "### Insights\n",
        "- The above Pair-Plot tells us that there is a LINEAR RELATION between 'temp','atemp' and 'cnt'"
      ]
    },
    {
      "cell_type": "markdown",
      "metadata": {
        "id": "XDyUP2eSHjqx"
      },
      "source": [
        "## Visualising Catagorical Variables"
      ]
    },
    {
      "cell_type": "code",
      "execution_count": null,
      "metadata": {
        "id": "MyBTSHfcHjqy",
        "trusted": true
      },
      "outputs": [],
      "source": [
        "df_train.info()"
      ]
    },
    {
      "cell_type": "code",
      "execution_count": null,
      "metadata": {
        "id": "mPFEiITxHjqy",
        "trusted": true
      },
      "outputs": [],
      "source": [
        "# Build boxplot of all categorical variables (before creating dummies) againt the target variable 'cnt'\n",
        "# to see how each of the predictor variable stackup against the target variable.\n",
        "\n",
        "plt.figure(figsize=(25, 10))\n",
        "plt.subplot(2,3,1)\n",
        "sns.boxplot(x = 'season', y = 'cnt', data = bike)\n",
        "plt.subplot(2,3,2)\n",
        "sns.boxplot(x = 'mnth', y = 'cnt', data = bike)\n",
        "plt.subplot(2,3,3)\n",
        "sns.boxplot(x = 'weathersit', y = 'cnt', data = bike)\n",
        "plt.subplot(2,3,4)\n",
        "sns.boxplot(x = 'holiday', y = 'cnt', data = bike)\n",
        "plt.subplot(2,3,5)\n",
        "sns.boxplot(x = 'weekday', y = 'cnt', data = bike)\n",
        "plt.subplot(2,3,6)\n",
        "sns.boxplot(x = 'workingday', y = 'cnt', data = bike)\n",
        "plt.show()"
      ]
    },
    {
      "cell_type": "markdown",
      "metadata": {
        "id": "uyEhAM5aHjqy"
      },
      "source": [
        "### Insights\n",
        "There were 6 categorical variables in the dataset.\n",
        "\n",
        "We used Box plot (refer the fig above) to study their effect on the dependent variable (‘cnt’) .\n",
        "\n",
        "The inference that We could derive were:\n",
        "- **season**: Almost 32% of the bike booking were happening in season3 with a median of over 5000 booking (for the period of 2 years). This was followed by season2 & season4 with 27% & 25% of total booking. This indicates, season can be a good predictor for the dependent variable.\n",
        "\n",
        "- **mnth**: Almost 10% of the bike booking were happening in the months 5,6,7,8 & 9 with a median of over 4000 booking per month. This indicates, mnth has some trend for bookings and can be a good predictor for the dependent variable.\n",
        "- **weathersit**: Almost 67% of the bike booking were happening during ‘weathersit1 with a median of close to 5000 booking (for the period of 2 years). This was followed by weathersit2 with 30% of total booking. This indicates, weathersit does show some trend towards the bike bookings can be a good predictor for the dependent variable.\n",
        "- **holiday**: Almost 97.6% of the bike booking were happening when it is not a holiday which means this data is clearly biased. This indicates, holiday CANNOT be a good predictor for the dependent variable.\n",
        "- **weekday**: weekday variable shows very close trend (between 13.5%-14.8% of total booking on all days of the week) having their independent medians between 4000 to 5000 bookings. This variable can have some or no influence towards the predictor. I will let the model decide if this needs to be added or not.\n",
        "- **workingday**: Almost 69% of the bike booking were happening in ‘workingday’ with a median of close to 5000 booking (for the period of 2 years). This indicates, workingday can be a good predictor for the dependent variable"
      ]
    },
    {
      "cell_type": "markdown",
      "metadata": {
        "id": "-gdURsQNHjqy"
      },
      "source": [
        "## Correlation Matrix"
      ]
    },
    {
      "cell_type": "code",
      "execution_count": null,
      "metadata": {
        "id": "QtM5hmLtHjqy",
        "trusted": true
      },
      "outputs": [],
      "source": [
        "# Let's check the correlation coefficients to see which variables are highly correlated. Note:\n",
        "# here we are considering only those variables (dataframe: bike_new) that were chosen for analysis\n",
        "\n",
        "plt.figure(figsize = (25,20))\n",
        "sns.heatmap(bike_new.corr(), annot = True, cmap=\"RdBu\")\n",
        "plt.show()"
      ]
    },
    {
      "cell_type": "markdown",
      "metadata": {
        "id": "Gnuqh56DHjqy"
      },
      "source": [
        "### Insights:\n",
        " - The heatmap clearly shows which all variable are multicollinear in nature, and which variable have high collinearity with the target variable.\n",
        " - We will refer this map back-and-forth while building the linear model so as to validate different correlated values along with VIF & p-value, for identifying the correct variable to select/eliminate from the model."
      ]
    },
    {
      "cell_type": "markdown",
      "metadata": {
        "id": "ct93oAg4Hjqy"
      },
      "source": [
        "# RESCALING THE FEATURES"
      ]
    },
    {
      "cell_type": "code",
      "execution_count": null,
      "metadata": {
        "id": "ZRqd5y-lHjqy",
        "trusted": true
      },
      "outputs": [],
      "source": [
        "from sklearn.preprocessing import MinMaxScaler"
      ]
    },
    {
      "cell_type": "code",
      "execution_count": null,
      "metadata": {
        "id": "-n84mBgCHjqy",
        "trusted": true
      },
      "outputs": [],
      "source": [
        "scaler = MinMaxScaler()"
      ]
    },
    {
      "cell_type": "code",
      "execution_count": null,
      "metadata": {
        "id": "aVoNnhg-Hjqz",
        "trusted": true
      },
      "outputs": [],
      "source": [
        "# Checking the values before scaling\n",
        "df_train.head()"
      ]
    },
    {
      "cell_type": "code",
      "execution_count": null,
      "metadata": {
        "id": "biErGQhRHjqz",
        "trusted": true
      },
      "outputs": [],
      "source": [
        "df_train.columns"
      ]
    },
    {
      "cell_type": "code",
      "execution_count": null,
      "metadata": {
        "id": "_gOl3TSYHjqz",
        "trusted": true
      },
      "outputs": [],
      "source": [
        "# Apply scaler() to all the numeric variables\n",
        "\n",
        "num_vars = ['temp', 'atemp', 'hum', 'windspeed','cnt']\n",
        "\n",
        "df_train[num_vars] = scaler.fit_transform(df_train[num_vars])"
      ]
    },
    {
      "cell_type": "code",
      "execution_count": null,
      "metadata": {
        "id": "C2MAcsDEHjqz",
        "trusted": true
      },
      "outputs": [],
      "source": [
        "# Checking values after scaling\n",
        "df_train.head()"
      ]
    },
    {
      "cell_type": "code",
      "execution_count": null,
      "metadata": {
        "id": "japEh3fQHjqz",
        "trusted": true
      },
      "outputs": [],
      "source": [
        "df_train.describe()"
      ]
    },
    {
      "cell_type": "markdown",
      "metadata": {
        "id": "qWTk1VvMHjqz"
      },
      "source": [
        "# BUILDING A LINEAR MODEL"
      ]
    },
    {
      "cell_type": "markdown",
      "metadata": {
        "id": "Wc1BKcUEHjqz"
      },
      "source": [
        "## Dividing into X and Y sets for the model building"
      ]
    },
    {
      "cell_type": "code",
      "execution_count": null,
      "metadata": {
        "id": "rtsjHzbpHjqz",
        "trusted": true
      },
      "outputs": [],
      "source": [
        "y_train = df_train.pop('cnt')\n",
        "X_train = df_train"
      ]
    },
    {
      "cell_type": "markdown",
      "metadata": {
        "id": "okPr8CiNHjqz"
      },
      "source": [
        "### RFE\n",
        "Recursive feature elimination: We will be using the **LinearRegression function from SciKit Learn**  for its compatibility with RFE (which is a utility from sklearn)"
      ]
    },
    {
      "cell_type": "code",
      "execution_count": null,
      "metadata": {
        "id": "vtTY-n6ZHjqz",
        "trusted": true
      },
      "outputs": [],
      "source": [
        "# Importing RFE and LinearRegression\n",
        "from sklearn.feature_selection import RFE\n",
        "from sklearn.linear_model import LinearRegression"
      ]
    },
    {
      "cell_type": "code",
      "execution_count": null,
      "metadata": {
        "id": "seIZzeJlHjqz",
        "trusted": true
      },
      "outputs": [],
      "source": [
        "# Running RFE with the output number of the variable equal to 15\n",
        "lm = LinearRegression()\n",
        "lm.fit(X_train, y_train)\n",
        "\n",
        "rfe = RFE(lm, 15)             # running RFE\n",
        "rfe = rfe.fit(X_train, y_train)"
      ]
    },
    {
      "cell_type": "code",
      "execution_count": null,
      "metadata": {
        "id": "ms05sViTHjqz",
        "trusted": true
      },
      "outputs": [],
      "source": [
        "list(zip(X_train.columns,rfe.support_,rfe.ranking_))"
      ]
    },
    {
      "cell_type": "code",
      "execution_count": null,
      "metadata": {
        "id": "Sm0ephdsHjqz",
        "trusted": true
      },
      "outputs": [],
      "source": [
        "col = X_train.columns[rfe.support_]\n",
        "col"
      ]
    },
    {
      "cell_type": "code",
      "execution_count": null,
      "metadata": {
        "id": "KBxG0V_GHjqz",
        "trusted": true
      },
      "outputs": [],
      "source": [
        "X_train.columns[~rfe.support_]"
      ]
    },
    {
      "cell_type": "code",
      "execution_count": null,
      "metadata": {
        "id": "rvAyCuB0Hjq0",
        "trusted": true
      },
      "outputs": [],
      "source": [
        "# Creating X_test dataframe with RFE selected variables\n",
        "X_train_rfe = X_train[col]"
      ]
    },
    {
      "cell_type": "markdown",
      "metadata": {
        "id": "ssgFhHPZHjq0"
      },
      "source": [
        "# Building Linear Model using 'STATS MODEL'"
      ]
    },
    {
      "cell_type": "markdown",
      "metadata": {
        "id": "t882IYxVHjq0"
      },
      "source": [
        "## Model 1"
      ]
    },
    {
      "cell_type": "markdown",
      "metadata": {
        "id": "PvtWgIz-Hjq0"
      },
      "source": [
        "### VIF Check"
      ]
    },
    {
      "cell_type": "code",
      "execution_count": null,
      "metadata": {
        "id": "EauHL3_ZHjq0",
        "trusted": true
      },
      "outputs": [],
      "source": [
        "# Check for the VIF values of the feature variables.\n",
        "from statsmodels.stats.outliers_influence import variance_inflation_factor\n",
        "\n",
        "# Create a dataframe that will contain the names of all the feature variables and their respective VIFs\n",
        "vif = pd.DataFrame()\n",
        "vif['Features'] = X_train_rfe.columns\n",
        "vif['VIF'] = [variance_inflation_factor(X_train_rfe.values, i) for i in range(X_train_rfe.shape[1])]\n",
        "vif['VIF'] = round(vif['VIF'], 2)\n",
        "vif = vif.sort_values(by = \"VIF\", ascending = False)\n",
        "vif"
      ]
    },
    {
      "cell_type": "code",
      "execution_count": null,
      "metadata": {
        "id": "1HZdWBDIHjq0",
        "trusted": true
      },
      "outputs": [],
      "source": [
        "import statsmodels.api as sm\n",
        "\n",
        "# Add a constant\n",
        "X_train_lm1 = sm.add_constant(X_train_rfe)\n",
        "\n",
        "# Create a first fitted model\n",
        "lr1 = sm.OLS(y_train, X_train_lm1).fit()"
      ]
    },
    {
      "cell_type": "code",
      "execution_count": null,
      "metadata": {
        "id": "rhMjJ01rHjq0",
        "trusted": true
      },
      "outputs": [],
      "source": [
        "# Check the parameters obtained\n",
        "\n",
        "lr1.params"
      ]
    },
    {
      "cell_type": "code",
      "execution_count": null,
      "metadata": {
        "id": "nPbKzOjvHjq0",
        "trusted": true
      },
      "outputs": [],
      "source": [
        "# Print a summary of the linear regression model obtained\n",
        "print(lr1.summary())"
      ]
    },
    {
      "cell_type": "markdown",
      "metadata": {
        "id": "zuKmgngqHjq0"
      },
      "source": [
        "## Model 2"
      ]
    },
    {
      "cell_type": "markdown",
      "metadata": {
        "id": "fChydAtwHjq0"
      },
      "source": [
        "- Removing the variable 'atemp' based on its High p-value & High VIF"
      ]
    },
    {
      "cell_type": "code",
      "execution_count": null,
      "metadata": {
        "id": "KQcdfCiuHjq0",
        "trusted": true
      },
      "outputs": [],
      "source": [
        "X_train_new = X_train_rfe.drop([\"atemp\"], axis = 1)"
      ]
    },
    {
      "cell_type": "markdown",
      "metadata": {
        "id": "yp9NGb0LHjq0"
      },
      "source": [
        "### VIF Check"
      ]
    },
    {
      "cell_type": "code",
      "execution_count": null,
      "metadata": {
        "id": "tWLzRi3THjq0",
        "trusted": true
      },
      "outputs": [],
      "source": [
        "# Check for the VIF values of the feature variables.\n",
        "from statsmodels.stats.outliers_influence import variance_inflation_factor\n",
        "\n",
        "# Create a dataframe that will contain the names of all the feature variables and their respective VIFs\n",
        "vif = pd.DataFrame()\n",
        "vif['Features'] = X_train_new.columns\n",
        "vif['VIF'] = [variance_inflation_factor(X_train_new.values, i) for i in range(X_train_new.shape[1])]\n",
        "vif['VIF'] = round(vif['VIF'], 2)\n",
        "vif = vif.sort_values(by = \"VIF\", ascending = False)\n",
        "vif"
      ]
    },
    {
      "cell_type": "code",
      "execution_count": null,
      "metadata": {
        "id": "5s6WsLZlHjq1",
        "trusted": true
      },
      "outputs": [],
      "source": [
        "# Add a constant\n",
        "X_train_lm2 = sm.add_constant(X_train_new)\n",
        "\n",
        "# Create a first fitted model\n",
        "lr2 = sm.OLS(y_train, X_train_lm2).fit()"
      ]
    },
    {
      "cell_type": "code",
      "execution_count": null,
      "metadata": {
        "id": "3Vzc4-RVHjq1",
        "trusted": true
      },
      "outputs": [],
      "source": [
        "# Check the parameters obtained\n",
        "\n",
        "lr2.params"
      ]
    },
    {
      "cell_type": "code",
      "execution_count": null,
      "metadata": {
        "id": "GzI9bfX8Hjq1",
        "trusted": true
      },
      "outputs": [],
      "source": [
        "# Print a summary of the linear regression model obtained\n",
        "print(lr2.summary())"
      ]
    },
    {
      "cell_type": "markdown",
      "metadata": {
        "id": "-eX3xpEVHjq1"
      },
      "source": [
        "## Model 3"
      ]
    },
    {
      "cell_type": "markdown",
      "metadata": {
        "id": "pBaG0Pu9Hjq1"
      },
      "source": [
        " - Removing the variable 'hum' based on its Very High 'VIF' value.\n",
        " - Even though the VIF of hum is second highest, we decided to drop 'hum' and not 'temp' based on general knowledge that temperature can be an important factor for a business like bike rentals, and wanted to retain 'temp'."
      ]
    },
    {
      "cell_type": "code",
      "execution_count": null,
      "metadata": {
        "id": "oqjVWAiwHjq1",
        "trusted": true
      },
      "outputs": [],
      "source": [
        "X_train_new = X_train_new.drop([\"hum\"], axis = 1)"
      ]
    },
    {
      "cell_type": "markdown",
      "metadata": {
        "id": "cVXl_dY3Hjq1"
      },
      "source": [
        "### VIF Check"
      ]
    },
    {
      "cell_type": "code",
      "execution_count": null,
      "metadata": {
        "id": "_a_Q3YjEHjq1",
        "trusted": true
      },
      "outputs": [],
      "source": [
        "# Check for the VIF values of the feature variables.\n",
        "from statsmodels.stats.outliers_influence import variance_inflation_factor\n",
        "\n",
        "# Create a dataframe that will contain the names of all the feature variables and their respective VIFs\n",
        "vif = pd.DataFrame()\n",
        "vif['Features'] = X_train_new.columns\n",
        "vif['VIF'] = [variance_inflation_factor(X_train_new.values, i) for i in range(X_train_new.shape[1])]\n",
        "vif['VIF'] = round(vif['VIF'], 2)\n",
        "vif = vif.sort_values(by = \"VIF\", ascending = False)\n",
        "vif"
      ]
    },
    {
      "cell_type": "code",
      "execution_count": null,
      "metadata": {
        "id": "v8FXA-hzHjq1",
        "trusted": true
      },
      "outputs": [],
      "source": [
        "# Add a constant\n",
        "X_train_lm3 = sm.add_constant(X_train_new)\n",
        "\n",
        "# Create a first fitted model\n",
        "lr3 = sm.OLS(y_train, X_train_lm3).fit()"
      ]
    },
    {
      "cell_type": "code",
      "execution_count": null,
      "metadata": {
        "id": "oCqcmbaDHjq1",
        "trusted": true
      },
      "outputs": [],
      "source": [
        "lr3.params"
      ]
    },
    {
      "cell_type": "code",
      "execution_count": null,
      "metadata": {
        "id": "Hc2VtftmHjq1",
        "trusted": true
      },
      "outputs": [],
      "source": [
        "# Print a summary of the linear regression model obtained\n",
        "print(lr3.summary())"
      ]
    },
    {
      "cell_type": "markdown",
      "metadata": {
        "id": "ey-tgJojHjq1"
      },
      "source": [
        "## Model 4"
      ]
    },
    {
      "cell_type": "markdown",
      "metadata": {
        "id": "o4hFPneSHjq1"
      },
      "source": [
        "- Removing the variable 'season3' based on its Very High 'VIF' value.\n",
        "- Even though the VIF of season3 is second highest, we decided to drop 'season3' and not 'temp' based on general knowledge that temperature can be an important factor for a business like bike rentals, and wanted to retain 'temp'."
      ]
    },
    {
      "cell_type": "code",
      "execution_count": null,
      "metadata": {
        "id": "QNg34pMKHjq2",
        "trusted": true
      },
      "outputs": [],
      "source": [
        "X_train_new = X_train_new.drop([\"season_3\"], axis = 1)"
      ]
    },
    {
      "cell_type": "markdown",
      "metadata": {
        "id": "nBxuVA4HHjq2"
      },
      "source": [
        "### VIF Check"
      ]
    },
    {
      "cell_type": "code",
      "execution_count": null,
      "metadata": {
        "id": "gf6Ig-NWHjq2",
        "trusted": true
      },
      "outputs": [],
      "source": [
        "# Check for the VIF values of the feature variables.\n",
        "from statsmodels.stats.outliers_influence import variance_inflation_factor\n",
        "\n",
        "# Create a dataframe that will contain the names of all the feature variables and their respective VIFs\n",
        "vif = pd.DataFrame()\n",
        "vif['Features'] = X_train_new.columns\n",
        "vif['VIF'] = [variance_inflation_factor(X_train_new.values, i) for i in range(X_train_new.shape[1])]\n",
        "vif['VIF'] = round(vif['VIF'], 2)\n",
        "vif = vif.sort_values(by = \"VIF\", ascending = False)\n",
        "vif"
      ]
    },
    {
      "cell_type": "code",
      "execution_count": null,
      "metadata": {
        "id": "-46QzHXTHjq2",
        "trusted": true
      },
      "outputs": [],
      "source": [
        "# Add a constant\n",
        "X_train_lm4 = sm.add_constant(X_train_new)\n",
        "\n",
        "# Create a first fitted model\n",
        "lr4 = sm.OLS(y_train, X_train_lm4).fit()"
      ]
    },
    {
      "cell_type": "code",
      "execution_count": null,
      "metadata": {
        "id": "pEjl5BeTHjq2",
        "trusted": true
      },
      "outputs": [],
      "source": [
        "# Check the parameters obtained\n",
        "\n",
        "lr4.params"
      ]
    },
    {
      "cell_type": "code",
      "execution_count": null,
      "metadata": {
        "id": "oY0-8eRiHjq2",
        "trusted": true
      },
      "outputs": [],
      "source": [
        "# Print a summary of the linear regression model obtained\n",
        "print(lr4.summary())"
      ]
    },
    {
      "cell_type": "markdown",
      "metadata": {
        "id": "RTJI6CWNHjq2"
      },
      "source": [
        "## Model 5"
      ]
    },
    {
      "cell_type": "markdown",
      "metadata": {
        "id": "sghLT5w0Hjq2"
      },
      "source": [
        "- Removing the variable 'mnth_10' based on its Very High p-value."
      ]
    },
    {
      "cell_type": "code",
      "execution_count": null,
      "metadata": {
        "id": "jkZ2VjCLHjq2",
        "trusted": true
      },
      "outputs": [],
      "source": [
        "X_train_new = X_train_new.drop([\"mnth_10\"], axis = 1)"
      ]
    },
    {
      "cell_type": "markdown",
      "metadata": {
        "id": "5sVjqppEHjq2"
      },
      "source": [
        "### VIF Check"
      ]
    },
    {
      "cell_type": "code",
      "execution_count": null,
      "metadata": {
        "id": "3UaxEfE_Hjq2",
        "trusted": true
      },
      "outputs": [],
      "source": [
        "# Check for the VIF values of the feature variables.\n",
        "from statsmodels.stats.outliers_influence import variance_inflation_factor\n",
        "\n",
        "# Create a dataframe that will contain the names of all the feature variables and their respective VIFs\n",
        "vif = pd.DataFrame()\n",
        "vif['Features'] = X_train_new.columns\n",
        "vif['VIF'] = [variance_inflation_factor(X_train_new.values, i) for i in range(X_train_new.shape[1])]\n",
        "vif['VIF'] = round(vif['VIF'], 2)\n",
        "vif = vif.sort_values(by = \"VIF\", ascending = False)\n",
        "vif"
      ]
    },
    {
      "cell_type": "code",
      "execution_count": null,
      "metadata": {
        "id": "qaKk3wo-Hjq2",
        "trusted": true
      },
      "outputs": [],
      "source": [
        "# Add a constant\n",
        "X_train_lm5 = sm.add_constant(X_train_new)\n",
        "\n",
        "# Create a first fitted model\n",
        "lr5 = sm.OLS(y_train, X_train_lm5).fit()"
      ]
    },
    {
      "cell_type": "code",
      "execution_count": null,
      "metadata": {
        "id": "_oaoaBlrHjq2",
        "trusted": true
      },
      "outputs": [],
      "source": [
        "# Check the parameters obtained\n",
        "\n",
        "lr5.params"
      ]
    },
    {
      "cell_type": "code",
      "execution_count": null,
      "metadata": {
        "id": "Tb1_wYO4Hjq2",
        "trusted": true
      },
      "outputs": [],
      "source": [
        "# Print a summary of the linear regression model obtained\n",
        "print(lr5.summary())"
      ]
    },
    {
      "cell_type": "markdown",
      "metadata": {
        "id": "G77fNiprHjq2"
      },
      "source": [
        "## Model 6"
      ]
    },
    {
      "cell_type": "markdown",
      "metadata": {
        "id": "Z-CJVPGLHjq3"
      },
      "source": [
        "- Removing the variable 'mnth_3' based on its High 'p-value'."
      ]
    },
    {
      "cell_type": "code",
      "execution_count": null,
      "metadata": {
        "id": "YO4FqZaWHjq3",
        "trusted": true
      },
      "outputs": [],
      "source": [
        "X_train_new = X_train_new.drop([\"mnth_3\"], axis = 1)"
      ]
    },
    {
      "cell_type": "markdown",
      "metadata": {
        "id": "YVpbfOAZHjq3"
      },
      "source": [
        "### VIF Check"
      ]
    },
    {
      "cell_type": "code",
      "execution_count": null,
      "metadata": {
        "id": "6xh8zbhqHjq3",
        "trusted": true
      },
      "outputs": [],
      "source": [
        "# Check for the VIF values of the feature variables.\n",
        "from statsmodels.stats.outliers_influence import variance_inflation_factor\n",
        "\n",
        "# Create a dataframe that will contain the names of all the feature variables and their respective VIFs\n",
        "vif = pd.DataFrame()\n",
        "vif['Features'] = X_train_new.columns\n",
        "vif['VIF'] = [variance_inflation_factor(X_train_new.values, i) for i in range(X_train_new.shape[1])]\n",
        "vif['VIF'] = round(vif['VIF'], 2)\n",
        "vif = vif.sort_values(by = \"VIF\", ascending = False)\n",
        "vif"
      ]
    },
    {
      "cell_type": "code",
      "execution_count": null,
      "metadata": {
        "id": "N0muVWQTHjq3",
        "trusted": true
      },
      "outputs": [],
      "source": [
        "# Add a constant\n",
        "X_train_lm6 = sm.add_constant(X_train_new)\n",
        "\n",
        "# Create a first fitted model\n",
        "lr6 = sm.OLS(y_train, X_train_lm6).fit()"
      ]
    },
    {
      "cell_type": "code",
      "execution_count": null,
      "metadata": {
        "id": "8DGE2SwjHjq3",
        "trusted": true
      },
      "outputs": [],
      "source": [
        "# Check the parameters obtained\n",
        "\n",
        "lr6.params"
      ]
    },
    {
      "cell_type": "code",
      "execution_count": null,
      "metadata": {
        "id": "k1Tfd3urHjq3",
        "trusted": true
      },
      "outputs": [],
      "source": [
        "# Print a summary of the linear regression model obtained\n",
        "print(lr6.summary())"
      ]
    },
    {
      "cell_type": "markdown",
      "metadata": {
        "id": "QbkNI0wUHjq3"
      },
      "source": [
        "### Insights\n",
        "- This model looks good, as there seems to be VERY LOW Multicollinearity between the predictors and the p-values for all the predictors seems to be significant. For now, we will consider this as our final model (unless the Test data metrics are not significantly close to this number)."
      ]
    },
    {
      "cell_type": "markdown",
      "metadata": {
        "id": "bp1ycvmnHjq3"
      },
      "source": [
        "# Final Model Interpretation"
      ]
    },
    {
      "cell_type": "markdown",
      "metadata": {
        "id": "F5LQNW_WHjq3"
      },
      "source": [
        "## Hypothesis Testing:"
      ]
    },
    {
      "cell_type": "markdown",
      "metadata": {
        "id": "8Vi_HIR3Hjq3"
      },
      "source": [
        "Hypothesis testing states that:\n",
        "- H0:B1=B2=...=Bn=0\n",
        "- H1:  at least one  Bi!=0"
      ]
    },
    {
      "cell_type": "markdown",
      "metadata": {
        "id": "6Wgo5OiWHjq3"
      },
      "source": [
        "### lr6 model coefficient values"
      ]
    },
    {
      "cell_type": "markdown",
      "metadata": {
        "id": "7FP0RpAUHjq4"
      },
      "source": [
        "- const 0.084143\n",
        "- yr 0.230846\n",
        "- workingday 0.043203\n",
        "- temp 0.563615\n",
        "- windspeed -0.155191\n",
        "- season_2 0.082706\n",
        "- season_4 0.128744\n",
        "- mnth_9 0.094743\n",
        "- weekday_6 0.056909\n",
        "- weathersit_2 -0.074807\n",
        "- weathersit_3 -0.306992"
      ]
    },
    {
      "cell_type": "markdown",
      "metadata": {
        "id": "g47bya3hHjq4"
      },
      "source": [
        "### Insights\n",
        "- From the lr6 model summary, it is evident that all our coefficients are not equal to zerowhich means **We REJECT the NULL HYPOTHESIS**\n",
        "    "
      ]
    },
    {
      "cell_type": "markdown",
      "metadata": {
        "id": "Im7g_W68Hjq4"
      },
      "source": [
        "### F Statistics"
      ]
    },
    {
      "cell_type": "markdown",
      "metadata": {
        "id": "ekD50FOMHjq4"
      },
      "source": [
        "F-Statistics is used for testing the overall significance of the Model: Higher the F-Statistics, more significant the Model is.\n",
        "\n",
        "- F-statistic: 233.8\n",
        "- Prob (F-statistic): 3.77e-181\n",
        "\n",
        "The F-Statistics value of 233 (which is greater than 1) and the p-value of '~0.0000' states that the overall model is significant"
      ]
    },
    {
      "cell_type": "markdown",
      "metadata": {
        "id": "7xeMc4eXHjq4"
      },
      "source": [
        "## The equation of best fitted surface based on model lr6:"
      ]
    },
    {
      "cell_type": "markdown",
      "metadata": {
        "id": "_8-FYA76Hjq4"
      },
      "source": [
        "cnt = 0.084143 + (**yr** × 0.230846) + (**workingday** × 0.043203) + (**temp** × 0.563615) − (**windspeed** × 0.155191) + (**season2** × 0.082706) + (**season4** ×0.128744) + (**mnth9** × 0.094743) + (**weekday6** ×0.056909) − (**weathersit2** × 0.074807) − (**weathersit3** × 0.306992)"
      ]
    },
    {
      "cell_type": "markdown",
      "metadata": {
        "id": "Lt-A7p_1Hjq4"
      },
      "source": [
        "## Interpretation of Coefficients:\n",
        "**temp:** A coefficient value of ‘0.5636’ indicated that a unit increase in temp variable, increases the bike hire numbers by 0.5636 units.\n",
        "\n",
        "**weathersit_3:** A coefficient value of ‘-0.3070’ indicated that, w.r.t Weathersit1, a unit increase in Weathersit3 variable, decreases the bike hire numbers by 0.3070 units.\n",
        "\n",
        "**yr:** A coefficient value of ‘0.2308’ indicated that a unit increase in yr variable, increases the bike hire numbers by 0.2308 units.\n",
        "\n",
        "**season_4:** A coefficient value of ‘0.128744’ indicated that w.r.t season_1, a unit increase in season_4 variable increases the bike hire numbers by 0.128744 units.\n",
        "\n",
        "**windspeed:** A coefficient value of ‘-0.155191’ indicated that, a unit increase in windspeed variable decreases the bike hire numbers by 0.155191 units.\n",
        "\n",
        "**workingday:** A coefficient value of ‘0.043203’ indicated that, a unit increase in workingday variable increases the bike hire numbers by 0.043203 units.\n",
        "\n",
        "**season_2:** A coefficient value of ‘0.082706’ indicated that w.r.t season_1, a unit increase in season_2 variable decreases the bike hire numbers by 0.082706 units.\n",
        "\n",
        "**mnth_9:** A coefficient value of ‘0.094743’ indicated that w.r.t mnth_1, a unit increase in mnth_9 variable increases the bike hire numbers by 0.094743 units.\n",
        "\n",
        "**weekday_6:** A coefficient value of ‘0.056909’ indicated that w.r.t weekday_1, a unit increase in weekday_6 variable increases the bike hire numbers by 0.056909 units.\n",
        "\n",
        "**weathersit_2:** A coefficient value of ‘-0.074807’ indicated that, w.r.t Weathersit1, a unit increase in Weathersit2 variable, decreases the bike hire numbers by 0.074807 units.\n",
        "\n",
        "**const:** The Constant value of ‘0.084143’ indicated that, in the absence of all other predictor variables (i.e. when x1,x2...xn =0), The bike rental can still increase by 0.084143 units."
      ]
    },
    {
      "cell_type": "markdown",
      "metadata": {
        "id": "DUkVaAS1Hjq4"
      },
      "source": [
        "# ASSUMPTIONS"
      ]
    },
    {
      "cell_type": "markdown",
      "metadata": {
        "id": "C3iYjJr2Hjq4"
      },
      "source": [
        "## Error terms are normally distributed with mean zero (not X, Y)\n",
        "- Residual Analysis Of Training Data"
      ]
    },
    {
      "cell_type": "code",
      "execution_count": null,
      "metadata": {
        "id": "bvDCsb9xHjq4",
        "trusted": true
      },
      "outputs": [],
      "source": [
        "y_train_pred = lr6.predict(X_train_lm6)"
      ]
    },
    {
      "cell_type": "code",
      "execution_count": null,
      "metadata": {
        "id": "n3D9yULuHjq4",
        "trusted": true
      },
      "outputs": [],
      "source": [
        "res = y_train-y_train_pred\n",
        "# Plot the histogram of the error terms\n",
        "fig = plt.figure()\n",
        "sns.distplot((res), bins = 20)\n",
        "fig.suptitle('Error Terms', fontsize = 20)                  # Plot heading\n",
        "plt.xlabel('Errors', fontsize = 18)                         # X-label"
      ]
    },
    {
      "cell_type": "markdown",
      "metadata": {
        "id": "ohhNUZQhHjq4"
      },
      "source": [
        "### Insights\n",
        "- From the above histogram, we could see that the Residuals are normally distributed. Hence our assumption for Linear Regression is valid."
      ]
    },
    {
      "cell_type": "markdown",
      "metadata": {
        "id": "-ZNz056MHjq4"
      },
      "source": [
        "## There is a linear relationship between X and Y"
      ]
    },
    {
      "cell_type": "code",
      "execution_count": null,
      "metadata": {
        "id": "HtIzEqKDHjq4",
        "trusted": true
      },
      "outputs": [],
      "source": [
        "bike_new=bike_new[[ 'temp', 'atemp', 'hum', 'windspeed','cnt']]\n",
        "\n",
        "sns.pairplot(bike_num, diag_kind='kde')\n",
        "plt.show()"
      ]
    },
    {
      "cell_type": "markdown",
      "metadata": {
        "id": "ba3kTJCNHjq5"
      },
      "source": [
        "## Insight\n",
        "- Using the pair plot, we could see there is a linear relation between temp and atemp variable with the predictor ‘cnt’."
      ]
    },
    {
      "cell_type": "markdown",
      "metadata": {
        "id": "5IubgBI9Hjq5"
      },
      "source": [
        "## There is No Multicollinearity between the predictor variables"
      ]
    },
    {
      "cell_type": "code",
      "execution_count": null,
      "metadata": {
        "id": "1dmV4fVbHjq5",
        "trusted": true
      },
      "outputs": [],
      "source": [
        "# Check for the VIF values of the feature variables.\n",
        "from statsmodels.stats.outliers_influence import variance_inflation_factor\n",
        "\n",
        "# Create a dataframe that will contain the names of all the feature variables and their respective VIFs\n",
        "vif = pd.DataFrame()\n",
        "vif['Features'] = X_train_new.columns\n",
        "vif['VIF'] = [variance_inflation_factor(X_train_new.values, i) for i in range(X_train_new.shape[1])]\n",
        "vif['VIF'] = round(vif['VIF'], 2)\n",
        "vif = vif.sort_values(by = \"VIF\", ascending = False)\n",
        "vif"
      ]
    },
    {
      "cell_type": "markdown",
      "metadata": {
        "id": "um1B-zlEHjq5"
      },
      "source": [
        "## Insight\n",
        "\n",
        " - From the VIF calculation we could find that there is no multicollinearity existing between the predictor variables, as all the values are within permissible range of below 5"
      ]
    },
    {
      "cell_type": "markdown",
      "metadata": {
        "id": "S4kFCgFCHjq5"
      },
      "source": [
        "# MAKING PREDICTION USING FINAL MODEL\n",
        "\n",
        "Now that we have fitted the model and checked the assumptions, it's time to go ahead and make predictions using the final model (lr6)\n",
        "\n",
        "### Applying the scaling on the test sets"
      ]
    },
    {
      "cell_type": "code",
      "execution_count": null,
      "metadata": {
        "id": "jJFNq6DEHjq5",
        "trusted": true
      },
      "outputs": [],
      "source": [
        "# Apply scaler() to all numeric variables in test dataset. Note: we will only use scaler.transform,\n",
        "# as we want to use the metrics that the model learned from the training data to be applied on the test data.\n",
        "# In other words, we want to prevent the information leak from train to test dataset.\n",
        "\n",
        "num_vars = ['temp', 'atemp', 'hum', 'windspeed','cnt']\n",
        "\n",
        "df_test[num_vars] = scaler.transform(df_test[num_vars])"
      ]
    },
    {
      "cell_type": "code",
      "execution_count": null,
      "metadata": {
        "id": "1se-CgsuHjq5",
        "trusted": true
      },
      "outputs": [],
      "source": [
        "df_test.head()"
      ]
    },
    {
      "cell_type": "code",
      "execution_count": null,
      "metadata": {
        "id": "GlVtmn16Hjq5",
        "trusted": true
      },
      "outputs": [],
      "source": [
        "df_test.describe()"
      ]
    },
    {
      "cell_type": "markdown",
      "metadata": {
        "id": "SdbA98f_Hjq5"
      },
      "source": [
        "### Dividing into X_test and y_test"
      ]
    },
    {
      "cell_type": "code",
      "execution_count": null,
      "metadata": {
        "id": "YlREGPZ6Hjq5",
        "trusted": true
      },
      "outputs": [],
      "source": [
        "y_test = df_test.pop('cnt')\n",
        "X_test = df_test\n",
        "X_test.info()"
      ]
    },
    {
      "cell_type": "code",
      "execution_count": null,
      "metadata": {
        "id": "tsCCCi-zHjq5",
        "trusted": true
      },
      "outputs": [],
      "source": [
        "#Selecting the variables that were part of final model.\n",
        "col1=X_train_new.columns\n",
        "X_test=X_test[col1]\n",
        "# Adding constant variable to test dataframe\n",
        "X_test_lm6 = sm.add_constant(X_test)\n",
        "X_test_lm6.info()"
      ]
    },
    {
      "cell_type": "code",
      "execution_count": null,
      "metadata": {
        "id": "NiUmXE1JHjq5",
        "trusted": true
      },
      "outputs": [],
      "source": [
        "# Making predictions using the final model (lr6)\n",
        "\n",
        "y_pred = lr6.predict(X_test_lm6)"
      ]
    },
    {
      "cell_type": "markdown",
      "metadata": {
        "id": "vA6XlkdHHjq5"
      },
      "source": [
        "# MODEL EVALUATION"
      ]
    },
    {
      "cell_type": "code",
      "execution_count": null,
      "metadata": {
        "id": "MVaBTJ6RHjq6",
        "trusted": true
      },
      "outputs": [],
      "source": [
        "# Plotting y_test and y_pred to understand the spread\n",
        "\n",
        "fig = plt.figure()\n",
        "plt.scatter(y_test, y_pred, alpha=.5)\n",
        "fig.suptitle('y_test vs y_pred', fontsize = 20)              # Plot heading\n",
        "plt.xlabel('y_test', fontsize = 18)                          # X-label\n",
        "plt.ylabel('y_pred', fontsize = 16)\n",
        "plt.show()"
      ]
    },
    {
      "cell_type": "markdown",
      "metadata": {
        "id": "qzMcEdqnHjq6"
      },
      "source": [
        " # R^2 Value for TEST"
      ]
    },
    {
      "cell_type": "code",
      "execution_count": null,
      "metadata": {
        "id": "Gl3iE8H8Hjq6",
        "trusted": true
      },
      "outputs": [],
      "source": [
        "from sklearn.metrics import r2_score\n",
        "r2_score(y_test, y_pred)"
      ]
    },
    {
      "cell_type": "markdown",
      "metadata": {
        "id": "tml-ZLgdHjq6"
      },
      "source": [
        "## Adjusted R^2 Value for TEST"
      ]
    },
    {
      "cell_type": "code",
      "execution_count": null,
      "metadata": {
        "id": "a4SWwFwlHjq6",
        "trusted": true
      },
      "outputs": [],
      "source": [
        "# We already have the value of R^2 (calculated in above step)\n",
        "\n",
        "r2=0.8203092200749708"
      ]
    },
    {
      "cell_type": "code",
      "execution_count": null,
      "metadata": {
        "id": "TyurRcEMHjq6",
        "trusted": true
      },
      "outputs": [],
      "source": [
        "# Get the shape of X_test\n",
        "X_test.shape\n"
      ]
    },
    {
      "cell_type": "code",
      "execution_count": null,
      "metadata": {
        "id": "ahLD3BDzHjq6",
        "trusted": true
      },
      "outputs": [],
      "source": [
        "# n is number of rows in X\n",
        "\n",
        "n = X_test.shape[0]\n",
        "\n",
        "\n",
        "# Number of features (predictors, p) is the shape along axis 1\n",
        "p = X_test.shape[1]\n",
        "\n",
        "# We find the Adjusted R-squared using the formula\n",
        "\n",
        "adjusted_r2 = 1-(1-r2)*(n-1)/(n-p-1)\n",
        "adjusted_r2"
      ]
    },
    {
      "cell_type": "markdown",
      "metadata": {
        "id": "UKJTYeL9Hjq6"
      },
      "source": [
        "# Final Result Comparison"
      ]
    },
    {
      "cell_type": "markdown",
      "metadata": {
        "id": "AWpMtVpaHjq6"
      },
      "source": [
        "- Train R^2 :0.824\n",
        "- Train Adjusted R^2 :0.821\n",
        "- Test R^2 :0.820\n",
        "- Test Adjusted R^2 :0.812\n",
        "- This seems to be a really good model that can very well 'Generalize' various datasets."
      ]
    },
    {
      "cell_type": "markdown",
      "metadata": {
        "id": "PovfHtr_Hjq6"
      },
      "source": [
        "# FINAL REPORT"
      ]
    },
    {
      "cell_type": "markdown",
      "metadata": {
        "id": "uxJo1n4XHjq6"
      },
      "source": [
        "As per our final Model, the top 3 predictor variables that influences the bike booking are:\n",
        "- **Temperature (temp)** - A coefficient value of ‘0.5636’ indicated that a unit increase in temp variable increases the bike hire numbers by 0.5636 units.\n",
        "- **Weather Situation 3 (weathersit_3)** - A coefficient value of ‘-0.3070’ indicated that, w.r.t Weathersit1, a unit increase in Weathersit3 variable decreases the bike hire numbers by 0.3070 units.\n",
        "- **Year (yr)** - A coefficient value of ‘0.2308’ indicated that a unit increase in yr variable increases the bike hire numbers by 0.2308 units.\n",
        "\n",
        "#### So, it's suggested to consider these variables utmost importance while planning, to achive maximum Booking\n",
        "\n",
        "The next best features that can also be considered are\n",
        "- **season_4:** - A coefficient value of ‘0.128744’ indicated that w.r.t season_1, a unit increase in season_4 variable increases the bike hire numbers by 0.128744 units.\n",
        "- **windspeed:** - A coefficient value of ‘-0.155191’ indicated that, a unit increase in windspeed variable decreases the bike hire numbers by 0.155191 units.\n",
        "\n",
        " #### NOTE:\n",
        " - The details of weathersit_1 & weathersit_3\n",
        " - **weathersit_1:** Clear, Few clouds, Partly cloudy, Partly cloudy\n",
        " - **weathersit_3:** Light Snow, Light Rain + Thunderstorm + Scattered clouds, Light Rain + Scattered clouds\n",
        "\n",
        "\n",
        " The details of season1 & season4\n",
        " - **season1:** spring\n",
        " - **season4:** winter"
      ]
    }
  ],
  "metadata": {
    "colab": {
      "name": "Bike Sharing : Multiple Linear Regression",
      "provenance": []
    },
    "kaggle": {
      "accelerator": "none",
      "dataSources": [
        {
          "datasetId": 789011,
          "sourceId": 1355226,
          "sourceType": "datasetVersion"
        }
      ],
      "dockerImageVersionId": 29980,
      "isGpuEnabled": false,
      "isInternetEnabled": false,
      "language": "python",
      "sourceType": "notebook"
    },
    "kernelspec": {
      "display_name": "Python 3",
      "language": "python",
      "name": "python3"
    },
    "language_info": {
      "codemirror_mode": {
        "name": "ipython",
        "version": 3
      },
      "file_extension": ".py",
      "mimetype": "text/x-python",
      "name": "python",
      "nbconvert_exporter": "python",
      "pygments_lexer": "ipython3",
      "version": "3.12.3"
    }
  },
  "nbformat": 4,
  "nbformat_minor": 0
}
